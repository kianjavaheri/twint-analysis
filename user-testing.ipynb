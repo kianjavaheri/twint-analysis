{
 "cells": [
  {
   "cell_type": "code",
   "execution_count": 3,
   "metadata": {},
   "outputs": [],
   "source": [
    "import pandas as pd\n",
    "import matplotlib.pyplot as plt\n",
    "import nltk\n",
    "from nltk.sentiment import SentimentIntensityAnalyzer\n",
    "sia = SentimentIntensityAnalyzer()\n",
    "from langdetect import detect"
   ]
  },
  {
   "cell_type": "code",
   "execution_count": 14,
   "metadata": {},
   "outputs": [],
   "source": [
    "df_elon = pd.read_csv('data/twint_elonmusk.csv')\n",
    "df_mc = pd.read_csv('data/twint_mcconnell.csv')\n",
    "# df_elon.head()\n",
    "# df_mc.head()"
   ]
  },
  {
   "cell_type": "code",
   "execution_count": 5,
   "metadata": {},
   "outputs": [],
   "source": [
    "def validate_tweet(tweet: str):\n",
    "    return detect(tweet) == 'en'"
   ]
  },
  {
   "cell_type": "code",
   "execution_count": 16,
   "metadata": {},
   "outputs": [],
   "source": [
    "def analyze_user(df):\n",
    "    pos = 0\n",
    "    neu = 0\n",
    "    neg = 0\n",
    "    for i in df['tweet']:\n",
    "        # if validate_tweet(i):\n",
    "        score = sia.polarity_scores(i)[\"compound\"]\n",
    "        if score > 0.3:\n",
    "            pos += 1\n",
    "        elif score < -0.3:\n",
    "            neg += 1\n",
    "        else:\n",
    "            neu += 1\n",
    "    return [pos, neu, neg]"
   ]
  },
  {
   "cell_type": "code",
   "execution_count": 18,
   "metadata": {},
   "outputs": [
    {
     "name": "stdout",
     "output_type": "stream",
     "text": [
      "[12, 24, 4]\n",
      "[17, 9, 14]\n"
     ]
    }
   ],
   "source": [
    "elon = analyze_user(df_elon)\n",
    "mitch = analyze_user(df_mc)\n",
    "print(elon)\n",
    "print(mitch)"
   ]
  }
 ],
 "metadata": {
  "interpreter": {
   "hash": "b0fa6594d8f4cbf19f97940f81e996739fb7646882a419484c72d19e05852a7e"
  },
  "kernelspec": {
   "display_name": "Python 3.9.9 64-bit",
   "language": "python",
   "name": "python3"
  },
  "language_info": {
   "codemirror_mode": {
    "name": "ipython",
    "version": 3
   },
   "file_extension": ".py",
   "mimetype": "text/x-python",
   "name": "python",
   "nbconvert_exporter": "python",
   "pygments_lexer": "ipython3",
   "version": "3.9.13"
  },
  "orig_nbformat": 4
 },
 "nbformat": 4,
 "nbformat_minor": 2
}
