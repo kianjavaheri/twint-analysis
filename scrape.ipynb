{
 "cells": [
  {
   "cell_type": "code",
   "execution_count": 2,
   "metadata": {},
   "outputs": [],
   "source": [
    "import twint\n",
    "import nest_asyncio\n",
    "nest_asyncio.apply()"
   ]
  },
  {
   "cell_type": "code",
   "execution_count": 3,
   "metadata": {},
   "outputs": [
    {
     "name": "stdout",
     "output_type": "stream",
     "text": [
      "1507092040617762818 2022-03-24 13:28:37 -0700 <LeaderMcConnell> I went into the Senate’s consideration of Judge Jackson’s nomination with an open mind.   But after studying the nominee’s record and watching her performance this week, I cannot and will not support Judge Jackson for a lifetime appointment to our highest Court.\n",
      "1506720051537358854 2022-03-23 12:50:28 -0700 <LeaderMcConnell> I was grieved to learn that our nation has lost former Secretary of State Madeleine Albright. My prayers are with Secretary Albright’s family and all who mourn her loss. My full statement:  https://t.co/w9i8vSuQBo\n",
      "1506683735500070918 2022-03-23 10:26:10 -0700 <LeaderMcConnell> Judge Jackson tried to deflect on key questions by telling Senators that constitutional issues haven’t come up often during her judicial service. Does she actually feel unprepared? If so, she shouldn't be confirmed. If not, then she owes the Senate much more clarity and candor.  https://t.co/EEjSMYl1UA\n",
      "1506654375787302921 2022-03-23 08:29:30 -0700 <LeaderMcConnell> Justices Ginsburg and Breyer had no problem defending the Court and slamming the door on partisan court-packing. Judge Jackson won't follow their lead. She carefully keeps that door open and avoids answering the Committee plainly. I’m afraid that speaks volumes.  https://t.co/tYQBUbVcYv\n",
      "1505921806779232256 2022-03-21 07:58:32 -0700 <LeaderMcConnell> The late Justice Ginsburg and Justice Breyer both publicly opposed court-packing during their tenures. This week, Judge Jackson will be asked if she shares their view on upholding the integrity of the Court.  https://t.co/D0orvwCB9S\n",
      "1505727307952099335 2022-03-20 19:05:39 -0700 <LeaderMcConnell> I was saddened to learn that Cpl. Jacob Moore of Catlettsburg, Kentucky, was one of four Marines killed during NATO exercises in Norway Friday night. I am incredibly grateful for his service defending our nation’s freedom. My prayers are with his family in this difficult time.\n",
      "1505558472859033603 2022-03-20 07:54:46 -0700 <LeaderMcConnell> Tune in now to @FaceTheNation. I’m joining @margbrennan to discuss urgent support for Ukraine and the upcoming Supreme Court nomination hearing.\n",
      "1504552502976524290 2022-03-17 13:17:24 -0700 <LeaderMcConnell> Justice Breyer, like the late Justice Ginsburg, is a staunch defender of the Court’s legitimacy and an opponent of far left court-packing plans. This should not be a hard question for his potential replacement. The Senate and the country deserve a clear answer from Judge Jackson.  https://t.co/plvoJrpfwh\n",
      "1504448095731466244 2022-03-17 06:22:31 -0700 <LeaderMcConnell> President Biden needs to step up his game on aid for Ukraine. Their resistance needs more lethal weapon systems that go after not only helicopters but higher-flying planes. We ought to be facilitating this aid right now.  https://t.co/dQyFRDYzSk\n",
      "1504219664485859331 2022-03-16 15:14:49 -0700 <LeaderMcConnell> Tune in now to @NewsHour. I’m joining @JudyWoodruff to discuss urgent support for Ukraine and the upcoming Supreme Court nomination hearings.\n",
      "1504139835237273600 2022-03-16 09:57:36 -0700 <LeaderMcConnell> President Zelensky and the people of Ukraine are showing the world incredible bravery and resilience. America cannot stay behind the curve. We must urgently get Ukraine more overdue lethal aid and air defense systems so they can keep up their fight for sovereignty and freedom.\n",
      "1503726440533082114 2022-03-15 06:34:55 -0700 <LeaderMcConnell> Nobody buys Democrats’ efforts to blame 14 months of failed policies on three weeks of crisis in Europe. Inflation and gas prices were skyrocketing and hurting families long before late last month. The White House needs to stop trying to deny their mistakes and start fixing them.  https://t.co/rT6GttKS03\n",
      "1501260687028359174 2022-03-08 10:16:54 -0700 <LeaderMcConnell> I strongly support America stopping purchasing Putin's oil.  We must also recognize that the past year of bad policies from this anti-domestic-energy Administration will make this necessary step more painful than it had to be. Democrats must let Americans produce American energy.\n",
      "1499410932635738113 2022-03-03 07:46:38 -0700 <LeaderMcConnell> I enjoyed meeting Judge Jackson. One crucial Supreme Court qualification is judicial philosophy. The nation needs Justices who uphold the rule of law by applying our laws and Constitution as written. I’ll be studying the Judge’s record and views during the vigorous process ahead.\n",
      "1499150309146431497 2022-03-02 14:31:01 -0700 <LeaderMcConnell> Tune in now to the @GuyBensonShow. We’ll be discussing energy independence, the Supreme Court, and President Biden’s missed opportunity at the State of the Union last night.  https://t.co/HC2JtVXHgB\n",
      "1499104936231120896 2022-03-02 11:30:43 -0700 <LeaderMcConnell> A year ago, President Biden hurt American energy independence on Day One by executive order.   With another stroke of the pen, he could get us back in the production business to meet our own needs and export to our friends in Europe too.  https://t.co/IGqrgJInsx\n",
      "1499033106765991940 2022-03-02 06:45:17 -0700 <LeaderMcConnell> Tune in now to @FoxNews. I’m joining @DanaPerino and @BillHemmer in studio to discuss President Biden's failure to pivot in his State of Union, @IAGovernor's excellent response, Ukraine, and the Supreme Court.\n",
      "1498868215975403524 2022-03-01 19:50:04 -0700 <LeaderMcConnell> .@IAGovernor has done a great job leading with common sense through the pandemic. She’s backed the blue, faced down Big Labor to open schools, and fought for parents.  Outstanding speech. After a warmed-over D.C. laundry list, Americans got to hear straight talk &amp; real solutions.\n",
      "1498862722548649990 2022-03-01 19:28:15 -0700 <LeaderMcConnell> President Biden ignored that his agenda has completely flopped for American families: Raging inflation, open borders, crime. The President did his best to try to pick himself up and provide some level of optimism but that’s not what the American people are feeling right now.\n",
      "1498757766533599233 2022-03-01 12:31:11 -0700 <LeaderMcConnell> Tune in now to @FoxNews. I’m joining @marthamaccallum to discuss tonight’s State of the Union and Ukraine.\n",
      "1498690630893158401 2022-03-01 08:04:25 -0700 <LeaderMcConnell> I’m glad the Americans will hear from @IAGovernor this evening. She’s a strong leader who delivers real solutions for the great people of Iowa. I look forward to hearing her reaction to the President’s remarks and her thoughts on how Washington could better serve Middle America.\n",
      "1498443856865603587 2022-02-28 15:43:49 -0700 <LeaderMcConnell> The President’s job is to seriously meet the growing threats posed by Russia and China. That starts with investing in our national defense. Our adversaries have prioritized military modernization for decades. We need more investment, not less, to strengthen our own capabilities.\n",
      "1497269696013520909 2022-02-25 09:58:08 -0700 <LeaderMcConnell> When Senator Jim Inhofe retires, the Senate will lose one of its foremost experts on defense policy, and Oklahoma will lose one of its fiercest advocates. I am glad our friend will continue to serve with us through the end of this Congress. My full statement:  https://t.co/PCFyVBO7jE\n",
      "1497231741253296140 2022-02-25 07:27:18 -0700 <LeaderMcConnell> The Senate must conduct a rigorous, exhaustive review of Judge Jackson’s nomination to the Supreme Court. This is especially crucial as Americans families face major crises that connect directly to our legal system, such as skyrocketing violent crime and open borders.\n",
      "1497231644926873602 2022-02-25 07:26:56 -0700 <LeaderMcConnell> I look forward to meeting with Judge Jackson in person and carefully reviewing her nomination during the vigorous and thorough Senate process that the American people deserve. My full statement:  https://t.co/cpUAz1Mcq2\n",
      "1496950945456046082 2022-02-24 12:51:32 -0700 <LeaderMcConnell> Putin’s initial aggression was just a small foretaste of what this thug had planned for Ukraine. America’s response will be measured carefully by our friends, by our adversaries, and by history itself. We cannot afford to fail this test. My full statement:  https://t.co/rNa3IPatxH\n",
      "1496216455381196803 2022-02-22 12:12:55 -0700 <LeaderMcConnell> While Washington Democrats fail working Americans, Republican governors are fighting and winning for families. I am thrilled the American people will hear directly from Governor Kim Reynolds of Iowa in the Republican address to the nation.  https://t.co/Xd6uEtm1tr\n",
      "1496163710452252672 2022-02-22 08:43:20 -0700 <LeaderMcConnell> Putin has turned his back on diplomacy in favor of escalation and the invasion of a sovereign country. The world is watching for America’s response. My full statement:  https://t.co/QMtFGE1E8D\n",
      "1494427686638432261 2022-02-17 13:45:00 -0700 <LeaderMcConnell> If Democrats actually wanted to help the American people afford gas, they wouldn’t have spent an entire year waging on American energy.  In one year under President Biden, America went from being a net oil exporter to setting a new record high in oil imports from Russia.\n",
      "1494360951528824838 2022-02-17 09:19:49 -0700 <LeaderMcConnell> Less than 48 hours after a far-left Black Lives Matter activist tried to literally murder a politician, the radical left bailed their comrade out of jail. It is just jaw-dropping. The innocent people of Louisville deserve better.\n",
      "1494000696928133122 2022-02-16 09:28:17 -0700 <LeaderMcConnell> Needless school closures. Unscientific child mask mandates. A woke war against merit-based schools and standards.  The far left even opposes basic K-12 transparency. They want parents sidelined and silenced.  Republicans stand with families. The party of parents has your back.\n",
      "1493628393878966274 2022-02-15 08:48:54 -0700 <LeaderMcConnell> American families are facing the worst inflation in 40 years. The middle 40% of earners have seen their disposable incomes shrink.   The Democrats who supercharged inflation want working people to trust their political spin over their own pocketbooks. But Americans know better.\n",
      "1493389596490715136 2022-02-14 17:00:00 -0700 <LeaderMcConnell> 70% of Americans agree the virus is here to stay &amp; it's time for normalcy. Science tells us kids are at the lowest risk. Classrooms should have been the first places that politicians let get back to normal. But too many Democrat-controlled areas are putting kids and parents last.\n",
      "1493346304331849733 2022-02-14 14:07:58 -0700 <LeaderMcConnell> Americans who watched the Super Bowl saw rich celebrities having a grand time with hardly a mask in sight. But under many Democrats’ policies, K-12 students who watched that big maskless party on TV last night had to wake up this morning and cover their own faces to go to school.\n",
      "1492235876461649921 2022-02-11 12:35:32 -0700 <LeaderMcConnell> Tolerating lawlessness and anarchy is not compassionate. It doesn’t help vulnerable communities for politicians to passively watch them devolve into war zones. Democrats need to drop the soft-on-crime nonsense and give American families the protection they deserve.  https://t.co/UBv6WPZb7m\n",
      "1491880266394124292 2022-02-10 13:02:27 -0700 <LeaderMcConnell> This all-Democrat government was warned their radical agenda would supercharge inflation and they pushed ahead anyway. Now, rampant inflation and soaring prices are crushing the American people.\n",
      "1491487770191269892 2022-02-09 11:02:49 -0700 <LeaderMcConnell> It is not compassionate to let vulnerable kids grow up in war zones because Democrats feel guilty putting violent criminals behind bars where they belong. Law-abiding citizens across America shouldn't live in fear because liberal public servants won’t do their jobs.\n",
      "1491487741070163969 2022-02-09 11:02:42 -0700 <LeaderMcConnell> Innocent Americans across the country are becoming victims of a violent crime wave. My hometown Louisville set a new all-time murder record last year and averages a carjacking every 42 hours. Democrats have got to quit the radical anti-police rhetoric and soft-on-crime policies.\n",
      "1491090279474274305 2022-02-08 08:43:20 -0700 <LeaderMcConnell> American workers have been earning pay raises, but the Democrats’ inflation is more than outpacing them. Factoring in inflation, the average American worker has gotten a 2% real pay cut under Democrats’ policies.\n",
      "1489335683105927174 2022-02-03 12:31:12 -0700 <LeaderMcConnell> Working families can’t afford a Federal Reserve Vice Chair who is itching to raise gas prices, raise energy and heating costs, reduce our energy independence, bankrupt entire industries, and misuse the Fed’s power to kill jobs in Middle America.\n"
     ]
    }
   ],
   "source": [
    "c = twint.Config()\n",
    "# c.Search = \"ukraine\"\n",
    "c.Username = \"LeaderMcConnell\"\n",
    "c.Limit = 30\n",
    "# c.Pandas = True \n",
    "c.Store_csv = True\n",
    "c.Output = \"twint_mcconnell.csv\"\n",
    "\n",
    "twint.run.Search(c)"
   ]
  }
 ],
 "metadata": {
  "interpreter": {
   "hash": "b0fa6594d8f4cbf19f97940f81e996739fb7646882a419484c72d19e05852a7e"
  },
  "kernelspec": {
   "display_name": "Python 3.9.9 64-bit",
   "language": "python",
   "name": "python3"
  },
  "language_info": {
   "codemirror_mode": {
    "name": "ipython",
    "version": 3
   },
   "file_extension": ".py",
   "mimetype": "text/x-python",
   "name": "python",
   "nbconvert_exporter": "python",
   "pygments_lexer": "ipython3",
   "version": "3.9.13"
  },
  "orig_nbformat": 4
 },
 "nbformat": 4,
 "nbformat_minor": 2
}
